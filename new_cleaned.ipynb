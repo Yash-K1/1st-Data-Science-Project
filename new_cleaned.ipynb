{
 "cells": [
  {
   "cell_type": "code",
   "execution_count": 1,
   "metadata": {},
   "outputs": [],
   "source": [
    "import pandas as pd\n",
    "import matplotlib.pyplot as plt"
   ]
  },
  {
   "cell_type": "code",
   "execution_count": 2,
   "metadata": {},
   "outputs": [],
   "source": [
    "data=pd.read_csv('dataset/cleaned.csv')"
   ]
  },
  {
   "cell_type": "code",
   "execution_count": 3,
   "metadata": {},
   "outputs": [
    {
     "name": "stdout",
     "output_type": "stream",
     "text": [
      "  Age_band_of_driver Sex_of_driver   Educational_level   \n",
      "0              18-30          Male   Above high school  \\\n",
      "1              31-50          Male  Junior high school   \n",
      "2              18-30          Male  Junior high school   \n",
      "3              18-30          Male  Junior high school   \n",
      "4              18-30          Male  Junior high school   \n",
      "5              31-50          Male             Unknown   \n",
      "6              18-30          Male  Junior high school   \n",
      "7              18-30          Male  Junior high school   \n",
      "8              18-30          Male  Junior high school   \n",
      "9              18-30          Male  Junior high school   \n",
      "\n",
      "  Vehicle_driver_relation Driving_experience   Lanes_or_Medians   \n",
      "0                Employee              1-2yr            Unknown  \\\n",
      "1                Employee         Above 10yr  Undivided Two way   \n",
      "2                Employee              1-2yr              other   \n",
      "3                Employee             5-10yr              other   \n",
      "4                Employee              2-5yr              other   \n",
      "5                 Unknown            Unknown            Unknown   \n",
      "6                Employee              2-5yr  Undivided Two way   \n",
      "7                Employee              2-5yr              other   \n",
      "8                Employee         Above 10yr              other   \n",
      "9                Employee              1-2yr  Undivided Two way   \n",
      "\n",
      "  Types_of_Junction Road_surface_type       Light_conditions   \n",
      "0       No junction     Asphalt roads               Daylight  \\\n",
      "1       No junction     Asphalt roads               Daylight   \n",
      "2       No junction     Asphalt roads               Daylight   \n",
      "3           Y Shape       Earth roads  Darkness - lights lit   \n",
      "4           Y Shape     Asphalt roads  Darkness - lights lit   \n",
      "5           Y Shape           Unknown               Daylight   \n",
      "6          Crossing           Unknown               Daylight   \n",
      "7           Y Shape     Asphalt roads               Daylight   \n",
      "8           Y Shape       Earth roads               Daylight   \n",
      "9           Y Shape     Asphalt roads               Daylight   \n",
      "\n",
      "  Weather_conditions                        Type_of_collision   \n",
      "0             Normal  Collision with roadside-parked vehicles  \\\n",
      "1             Normal           Vehicle with vehicle collision   \n",
      "2             Normal          Collision with roadside objects   \n",
      "3             Normal           Vehicle with vehicle collision   \n",
      "4             Normal           Vehicle with vehicle collision   \n",
      "5             Normal           Vehicle with vehicle collision   \n",
      "6             Normal           Vehicle with vehicle collision   \n",
      "7             Normal           Vehicle with vehicle collision   \n",
      "8             Normal  Collision with roadside-parked vehicles   \n",
      "9             Normal  Collision with roadside-parked vehicles   \n",
      "\n",
      "  Vehicle_movement              Pedestrian_movement   \n",
      "0   Going straight                 Not a Pedestrian  \\\n",
      "1   Going straight                 Not a Pedestrian   \n",
      "2   Going straight                 Not a Pedestrian   \n",
      "3   Going straight                 Not a Pedestrian   \n",
      "4   Going straight                 Not a Pedestrian   \n",
      "5           U-Turn                 Not a Pedestrian   \n",
      "6  Moving Backward                 Not a Pedestrian   \n",
      "7           U-Turn                 Not a Pedestrian   \n",
      "8   Going straight  Crossing from driver's nearside   \n",
      "9           U-Turn                 Not a Pedestrian   \n",
      "\n",
      "            Cause_of_accident  Accident_severity  \n",
      "0             Moving Backward                  2  \n",
      "1                  Overtaking                  2  \n",
      "2   Changing lane to the left                  1  \n",
      "3  Changing lane to the right                  2  \n",
      "4                  Overtaking                  2  \n",
      "5                 Overloading                  2  \n",
      "6                       Other                  2  \n",
      "7      No priority to vehicle                  2  \n",
      "8  Changing lane to the right                  2  \n",
      "9             Moving Backward                  1  \n"
     ]
    }
   ],
   "source": [
    "print(data.head(10))"
   ]
  },
  {
   "cell_type": "code",
   "execution_count": 4,
   "metadata": {},
   "outputs": [
    {
     "name": "stdout",
     "output_type": "stream",
     "text": [
      "Index(['Age_band_of_driver', 'Sex_of_driver', 'Educational_level',\n",
      "       'Vehicle_driver_relation', 'Driving_experience', 'Lanes_or_Medians',\n",
      "       'Types_of_Junction', 'Road_surface_type', 'Light_conditions',\n",
      "       'Weather_conditions', 'Type_of_collision', 'Vehicle_movement',\n",
      "       'Pedestrian_movement', 'Cause_of_accident', 'Accident_severity'],\n",
      "      dtype='object')\n"
     ]
    }
   ],
   "source": [
    "print(data.columns)"
   ]
  },
  {
   "cell_type": "code",
   "execution_count": 5,
   "metadata": {},
   "outputs": [
    {
     "data": {
      "text/plain": [
       "Text(0, 0.5, 'Light_conditions')"
      ]
     },
     "execution_count": 5,
     "metadata": {},
     "output_type": "execute_result"
    },
    {
     "data": {
      "image/png": "[encoded data removed]",
      "text/plain": [
       "<Figure size 640x480 with 1 Axes>"
      ]
     },
     "metadata": {},
     "output_type": "display_data"
    }
   ],
   "source": [
    "# create a figure and axis\n",
    "fig, ax = plt.subplots()\n",
    "\n",
    "# scatter the Accident_severity against the Light_conditions\n",
    "ax.scatter(data['Accident_severity'], data['Light_conditions'])\n",
    "\n",
    "# set a title and labels\n",
    "ax.set_title('Severity Based on Time of the Day')\n",
    "ax.set_xlabel('Age_band_of_driver')\n",
    "ax.set_ylabel('Light_conditions')"
   ]
  },
  {
   "cell_type": "code",
   "execution_count": 6,
   "metadata": {},
   "outputs": [
    {
     "name": "stdout",
     "output_type": "stream",
     "text": [
      "Accident_severity\n",
      "2    10415\n",
      "1     1743\n",
      "0      158\n",
      "Name: count, dtype: int64\n"
     ]
    }
   ],
   "source": [
    "print(data[\"Accident_severity\"].value_counts())"
   ]
  },
  {
   "cell_type": "code",
   "execution_count": 7,
   "metadata": {},
   "outputs": [
    {
     "ename": "NameError",
     "evalue": "name 'iris' is not defined",
     "output_type": "error",
     "traceback": [
      "\u001b[1;31m---------------------------------------------------------------------------\u001b[0m",
      "\u001b[1;31mNameError\u001b[0m                                 Traceback (most recent call last)",
      "Cell \u001b[1;32mIn[7], line 6\u001b[0m\n\u001b[0;32m      3\u001b[0m columns \u001b[39m=\u001b[39m data\u001b[39m.\u001b[39mcolumns\n\u001b[0;32m      5\u001b[0m \u001b[39m# create x data\u001b[39;00m\n\u001b[1;32m----> 6\u001b[0m x_data \u001b[39m=\u001b[39m \u001b[39mrange\u001b[39m(\u001b[39m0\u001b[39m, iris\u001b[39m.\u001b[39mshape[\u001b[39m0\u001b[39m])\n\u001b[0;32m      8\u001b[0m \u001b[39m# create figure and axis\u001b[39;00m\n\u001b[0;32m      9\u001b[0m fig, ax \u001b[39m=\u001b[39m plt\u001b[39m.\u001b[39msubplots()\n",
      "\u001b[1;31mNameError\u001b[0m: name 'iris' is not defined"
     ]
    }
   ],
   "source": [
    "\"\"\"\n",
    "# get columns to plot\n",
    "#columns = data.columns.drop(['class'])\n",
    "columns = data.columns\n",
    "\n",
    "# create x data\n",
    "x_data = range(0, iris.shape[0])\n",
    "\n",
    "# create figure and axis\n",
    "fig, ax = plt.subplots()\n",
    "\n",
    "# plot each column\n",
    "for column in columns:\n",
    "    ax.plot(x_data, iris[column], label=column)\n",
    "\n",
    "# set title and legend\n",
    "ax.set_title('Iris Dataset')\n",
    "ax.legend()\n",
    "\n",
    "\"\"\""
   ]
  },
  {
   "cell_type": "code",
   "execution_count": null,
   "metadata": {},
   "outputs": [
    {
     "name": "stdout",
     "output_type": "stream",
     "text": [
      "Age_band_of_driver - 5\n",
      "Sex_of_driver - 3\n",
      "Educational_level - 7\n",
      "Vehicle_driver_relation - 4\n",
      "Driving_experience - 8\n",
      "Lanes_or_Medians - 7\n",
      "Types_of_Junction - 8\n",
      "Road_surface_type - 6\n",
      "Light_conditions - 4\n",
      "Weather_conditions - 9\n",
      "Type_of_collision - 10\n",
      "Vehicle_movement - 13\n",
      "Pedestrian_movement - 9\n",
      "Cause_of_accident - 20\n",
      "Accident_severity - 3\n"
     ]
    }
   ],
   "source": [
    "for columns in data.columns:\n",
    "    print(f\"{columns} - {data[columns].nunique()}\")"
   ]
  },
  {
   "cell_type": "code",
   "execution_count": null,
   "metadata": {},
   "outputs": [
    {
     "data": {
      "text/plain": [
       "Text(0, 0.5, 'count')"
      ]
     },
     "execution_count": 42,
     "metadata": {},
     "output_type": "execute_result"
    },
    {
     "data": {
      "image/png": "[encoded data removed]",
      "text/plain": [
       "<Figure size 640x480 with 1 Axes>"
      ]
     },
     "metadata": {},
     "output_type": "display_data"
    }
   ],
   "source": [
    "# create figure and axis\n",
    "fig, ax = plt.subplots()\n",
    "\n",
    "# plot histogram\n",
    "ax.hist(data['Accident_severity'])\n",
    "\n",
    "# set title and labels\n",
    "ax.set_title('Severity According to Age group')\n",
    "ax.set_xlabel('Accident_severity')\n",
    "ax.set_ylabel(\"count\")"
   ]
  },
  {
   "cell_type": "code",
   "execution_count": null,
   "metadata": {},
   "outputs": [
    {
     "name": "stdout",
     "output_type": "stream",
     "text": [
      "<class 'pandas.core.frame.DataFrame'>\n",
      "RangeIndex: 12316 entries, 0 to 12315\n",
      "Data columns (total 15 columns):\n",
      " #   Column                   Non-Null Count  Dtype \n",
      "---  ------                   --------------  ----- \n",
      " 0   Age_band_of_driver       12316 non-null  object\n",
      " 1   Sex_of_driver            12316 non-null  object\n",
      " 2   Educational_level        12316 non-null  object\n",
      " 3   Vehicle_driver_relation  12316 non-null  object\n",
      " 4   Driving_experience       12316 non-null  object\n",
      " 5   Lanes_or_Medians         12316 non-null  object\n",
      " 6   Types_of_Junction        12316 non-null  object\n",
      " 7   Road_surface_type        12316 non-null  object\n",
      " 8   Light_conditions         12316 non-null  object\n",
      " 9   Weather_conditions       12316 non-null  object\n",
      " 10  Type_of_collision        12316 non-null  object\n",
      " 11  Vehicle_movement         12316 non-null  object\n",
      " 12  Pedestrian_movement      12316 non-null  object\n",
      " 13  Cause_of_accident        12316 non-null  object\n",
      " 14  Accident_severity        12316 non-null  int64 \n",
      "dtypes: int64(1), object(14)\n",
      "memory usage: 1.4+ MB\n"
     ]
    }
   ],
   "source": [
    "data.info()"
   ]
  }
 ],
 "metadata": {
  "kernelspec": {
   "display_name": "Python 3",
   "language": "python",
   "name": "python3"
  },
  "language_info": {
   "codemirror_mode": {
    "name": "ipython",
    "version": 3
   },
   "file_extension": ".py",
   "mimetype": "text/x-python",
   "name": "python",
   "nbconvert_exporter": "python",
   "pygments_lexer": "ipython3",
   "version": "3.11.3"
  },
  "orig_nbformat": 4
 },
 "nbformat": 4,
 "nbformat_minor": 2
}
